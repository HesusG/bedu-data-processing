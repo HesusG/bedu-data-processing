{
  "cells": [
    {
      "cell_type": "markdown",
      "metadata": {
        "id": "E0vqbgi9ay0H"
      },
      "source": [
        "# Reto 1 - Orientado a un Proyecto"
      ]
    },
    {
      "cell_type": "markdown",
      "metadata": {
        "id": "fhq_eyov_Zcs"
      },
      "source": [
        "# Contentido <a id='back'></a>\n",
        "\n",
        "* [Introducción](#intro)\n",
        "* [Etapa 1. Visión general de los datos](#data_review)\n",
        "    * [Conclusiones](#data_review_conclusions)\n",
        "* [Etapa 2. Preprocesamiento de datos](#data_preprocessing)\n",
        "    * [2.1 Estilo del encabezado](#header_style)\n",
        "    * [2.2 Valores faltantes](#missing_values)\n",
        "    * [2.3 Duplicados](#duplicates)\n",
        "    * [2.4 Conclusiones](#data_preprocessing_conclusions)"
      ]
    },
    {
      "cell_type": "markdown",
      "metadata": {
        "id": "VUC88oWjTJw2"
      },
      "source": [
        "## Introducción <a id='intro'></a>\n",
        "Cuando estamos investigando, necesitamos formular hipótesis que luego podemos poner a prueba. A veces aceptamos estas hipótesis; otras veces las rechazamos. Para tomar decisiones acertadas, una empresa debe poder comprender si está haciendo las suposiciones correctas.\n",
        "\n",
        "En este proyecto, compararás las preferencias musicales de las ciudades de Springfield y Shelbyville. Estudiarás datos reales de Yandex.Music para probar las siguientes hipótesis y comparar el comportamiento de los usuarios en estas dos ciudades.\n",
        "\n",
        "### Objetivo: \n",
        "Poner a prueba tres hipótesis:\n",
        "1. La actividad de los usuarios difiere según el día de la semana y la ciudad.\n",
        "2. Los residentes de Springfield y Shelbyville escuchan géneros musicales diferentes los lunes por la mañana. Esto también es cierto para las tardes de los viernes.\n",
        "3. Los oyentes de Springfield y Shelbyville tienen preferencias diferentes. En Springfield prefieren el pop, mientras que en Shelbyville hay más fanáticos del rap.\n",
        "\n",
        "### Etapas \n",
        "Los datos sobre el comportamiento de los usuarios se encuentran en el archivo `/data/music.csv`. No hay información sobre la calidad de los datos, por lo que deberás explorarlos antes de probar las hipótesis.\n",
        "\n",
        "Primero, evaluarás la calidad de los datos y verás si los problemas son significativos. Luego, durante el preprocesamiento de datos, intentarás solucionar los problemas más críticos.\n",
        "\n",
        "Tu proyecto constará de tres etapas:\n",
        "1. Visión general de los datos\n",
        "2. Preprocesamiento de datos\n",
        "3. Pruebas de las hipótesis\n",
        "\n",
        "[Tabla de Contenido](#back)"
      ]
    },
    {
      "cell_type": "markdown",
      "metadata": {
        "id": "Ml1hmfXC_Zcs"
      },
      "source": [
        "## Etapa 1. Visión general de los datos <a id='data_review'></a>"
      ]
    },
    {
      "cell_type": "markdown",
      "metadata": {
        "id": "57eAOGIz_Zcs"
      },
      "source": [
        "Importar los paquetes necesarios:"
      ]
    },
    {
      "cell_type": "code",
      "execution_count": null,
      "metadata": {
        "id": "AXN7PHPN_Zcs"
      },
      "outputs": [],
      "source": [
        "        "
      ]
    },
    {
      "cell_type": "markdown",
      "metadata": {
        "id": "SG23P8tt_Zcs"
      },
      "source": [
        "Lee el archivo `music_project_en.csv` desde la carpeta `/datasets/` y guárdalo en la variable `df`:\n"
      ]
    },
    {
      "cell_type": "code",
      "execution_count": null,
      "metadata": {
        "id": "fFVu7vqh_Zct"
      },
      "outputs": [],
      "source": []
    },
    {
      "cell_type": "markdown",
      "metadata": {
        "id": "rDoOMd3uTqnZ"
      },
      "source": [
        "Obtener información sobre los 10 primeros registros:"
      ]
    },
    {
      "cell_type": "code",
      "execution_count": null,
      "metadata": {
        "colab": {
          "base_uri": "https://localhost:8080/",
          "height": 363
        },
        "id": "oWTVX3gW_Zct",
        "outputId": "6c25f7fc-f94c-4717-ff19-968d6b322162"
      },
      "outputs": [],
      "source": []
    },
    {
      "cell_type": "markdown",
      "metadata": {},
      "source": [
        "Obteniendo información general sobre los datos en df"
      ]
    },
    {
      "cell_type": "code",
      "execution_count": null,
      "metadata": {
        "colab": {
          "base_uri": "https://localhost:8080/"
        },
        "id": "DSf2kIb-_Zct",
        "outputId": "eb18a040-60cc-4a78-b112-acc52d5126ad"
      },
      "outputs": [],
      "source": []
    },
    {
      "cell_type": "markdown",
      "metadata": {
        "id": "TaQ2Iwbr_Zct"
      },
      "source": [
        "La tabla contiene siete columnas. Todas ellas almacenan el mismo tipo de datos: `object`.\n",
        "\n",
        "Según la documentación:\n",
        "- `'userID'` — identificador de usuario\n",
        "- `'Track'` — título de la canción\n",
        "- `'artist'` — nombre del artista\n",
        "- `'genre'` — género musical\n",
        "- `'City'` — ciudad del usuario\n",
        "- `'time'` — hora exacta en que se reprodujo la canción\n",
        "- `'Day'` — día de la semana\n",
        "\n",
        "Podemos observar tres problemas con el estilo de los nombres de las columnas:\n",
        "1. Algunos nombres están en mayúsculas y otros en minúsculas.\n",
        "2. Hay espacios en algunos nombres.\n",
        "3. `Detecta el tercer problema tú mismo y descríbelo aquí`.\n",
        "\n"
      ]
    },
    {
      "cell_type": "markdown",
      "metadata": {
        "id": "MCB6-dXG_Zct"
      },
      "source": [
        "### Conclusiones <a id='data_review_conclusions'></a> \n",
        "\n",
        "\n",
        "Para avanzar, necesitamos preprocesar los datos."
      ]
    },
    {
      "cell_type": "markdown",
      "metadata": {
        "id": "3eL__vcwViOi"
      },
      "source": [
        "[Tabla de Contenido](#back)"
      ]
    },
    {
      "cell_type": "markdown",
      "metadata": {
        "id": "SjYF6Ub9_Zct"
      },
      "source": [
        "## Etapa 2. Pre-Procesamiento de Datos <a id='data_preprocessing'></a>\n",
        "Corrige el formato en los encabezados de las columnas y ocúpate de los valores faltantes. Luego, verifica si hay duplicados en los datos."
      ]
    },
    {
      "cell_type": "markdown",
      "metadata": {
        "id": "dIaKXr29_Zct"
      },
      "source": [
        "### Estilo del Encabezado <a id='header_style'></a>\n",
        "Imprime los headers del dataframe."
      ]
    },
    {
      "cell_type": "code",
      "execution_count": null,
      "metadata": {
        "colab": {
          "base_uri": "https://localhost:8080/"
        },
        "id": "oKOTdF_Q_Zct",
        "outputId": "194c9eee-482e-48eb-aac0-c4e47bfcb1d2"
      },
      "outputs": [],
      "source": []
    },
    {
      "cell_type": "markdown",
      "metadata": {
        "id": "zj5534cv_Zct"
      },
      "source": [
        "Cambiar los nombres de columna de acuerdo a las reglas de estilo adecuado:\n",
        "\n",
        "    Si el nombre tiene varias palabras, utilizar snake_case\n",
        "    Todos los caracteres deben estar en minúscula\n",
        "    Eliminar espacios"
      ]
    },
    {
      "cell_type": "code",
      "execution_count": null,
      "metadata": {
        "id": "ISlFqs5y_Zct"
      },
      "outputs": [],
      "source": []
    },
    {
      "cell_type": "markdown",
      "metadata": {
        "id": "1dqbh00J_Zct"
      },
      "source": [
        "Verifica el resultado. Imprime los nombres de las columnas una vez más:"
      ]
    },
    {
      "cell_type": "code",
      "execution_count": null,
      "metadata": {
        "colab": {
          "base_uri": "https://localhost:8080/"
        },
        "id": "d4NOAmTW_Zct",
        "outputId": "d62ace37-c328-4160-9176-b8bd157e2e5d"
      },
      "outputs": [],
      "source": []
    },
    {
      "cell_type": "markdown",
      "metadata": {
        "id": "xYJk6ksJVpOl"
      },
      "source": [
        "[Back to Contents](#back)"
      ]
    },
    {
      "cell_type": "markdown",
      "metadata": {
        "id": "5ISfbcfY_Zct"
      },
      "source": [
        "### Valores Nulos <a id='missing_values'></a>\n",
        "Primero, encuentra el número de valores faltantes en la tabla. Para hacerlo, utiliza dos métodos de pandas encadenados:"
      ]
    },
    {
      "cell_type": "code",
      "execution_count": null,
      "metadata": {
        "colab": {
          "base_uri": "https://localhost:8080/"
        },
        "id": "RskX29qr_Zct",
        "outputId": "53af5f37-275a-494a-fd87-6ef00c3a6139"
      },
      "outputs": [],
      "source": []
    },
    {
      "cell_type": "markdown",
      "metadata": {
        "id": "qubhgnlO_Zct"
      },
      "source": [
        "No todos los valores faltantes afectan la investigación. Por ejemplo, los valores faltantes en `track` y `artist` no son críticos. Simplemente puedes reemplazarlos con marcadores claros.\n",
        "\n",
        "Sin embargo, los valores faltantes en `'genre'` pueden afectar la comparación de las preferencias musicales en Springfield y Shelbyville. En la vida real, sería útil conocer las razones por las cuales faltan los datos e intentar compensarlos. Pero no tenemos esa oportunidad en este proyecto. Por lo tanto, deberás:\n",
        "* Rellenar estos valores faltantes con marcadores\n",
        "* Evaluar cuánto pueden afectar los valores faltantes a tus cálculos\n"
      ]
    },
    {
      "cell_type": "markdown",
      "metadata": {
        "id": "fSv2laPA_Zct"
      },
      "source": [
        "Reemplaza los valores faltantes en `'track'`, `'artist'` y `'genre'` con la cadena de texto `'unknown'`. Para hacer esto, crea la lista `columns_to_replace`, recórrela con un bucle `for` y reemplaza los valores faltantes en cada una de las columnas:\n"
      ]
    },
    {
      "cell_type": "code",
      "execution_count": null,
      "metadata": {
        "id": "KplB5qWs_Zct"
      },
      "outputs": [],
      "source": []
    },
    {
      "cell_type": "markdown",
      "metadata": {
        "id": "Ilsm-MZo_Zct"
      },
      "source": [
        "Asegúrate de que la tabla no contenga más valores faltantes. Vuelve a contar los valores faltantes."
      ]
    },
    {
      "cell_type": "code",
      "execution_count": null,
      "metadata": {
        "colab": {
          "base_uri": "https://localhost:8080/"
        },
        "id": "Tq4nYRX4_Zct",
        "outputId": "80d0a9f5-220f-41c9-fbd5-05d085bf7f3a"
      },
      "outputs": [],
      "source": []
    },
    {
      "cell_type": "markdown",
      "metadata": {
        "id": "74ZIBmq9VrsK"
      },
      "source": [
        "[Tabla de Contenido](#back)"
      ]
    },
    {
      "cell_type": "markdown",
      "metadata": {
        "id": "BWKRtBJ3_Zct"
      },
      "source": [
        "### Duplicados <a id='duplicates'></a>\n",
        "Encuentra el número de duplicados obvios en la tabla utilizando dos comandos encadenados:"
      ]
    },
    {
      "cell_type": "code",
      "execution_count": null,
      "metadata": {
        "colab": {
          "base_uri": "https://localhost:8080/"
        },
        "id": "36eES_S0_Zct",
        "outputId": "5869693e-d411-4861-fe27-94212450f791"
      },
      "outputs": [],
      "source": []
    },
    {
      "cell_type": "markdown",
      "metadata": {
        "id": "Ot25h6XR_Zct"
      },
      "source": [
        "Llama al método de pandas para eliminar los duplicados obvios:"
      ]
    },
    {
      "cell_type": "code",
      "execution_count": null,
      "metadata": {
        "id": "exFHq6tt_Zct"
      },
      "outputs": [],
      "source": []
    },
    {
      "cell_type": "markdown",
      "metadata": {
        "id": "Im2YwBEG_Zct"
      },
      "source": [
        "Vuelve a contar los duplicados obvios para asegurarte de haber eliminado todos ellos:"
      ]
    },
    {
      "cell_type": "code",
      "execution_count": null,
      "metadata": {
        "colab": {
          "base_uri": "https://localhost:8080/"
        },
        "id": "-8PuNWQ0_Zct",
        "outputId": "07a64f8b-19ec-46b1-84ec-409758d4dfee"
      },
      "outputs": [],
      "source": []
    },
    {
      "cell_type": "markdown",
      "metadata": {
        "id": "QlFBsxAr_Zct"
      },
      "source": [
        "Ahora elimina los duplicados implícitos en la columna `'genre'`. Por ejemplo, el nombre de un género puede estar escrito de diferentes maneras. Estos errores también afectarán el resultado."
      ]
    },
    {
      "cell_type": "markdown",
      "metadata": {
        "id": "eSjWwsOh_Zct"
      },
      "source": [
        "Imprime una lista de nombres de género únicos, ordenados alfabéticamente. Para hacerlo:\n",
        "\n",
        "- Obtén la columna deseada del DataFrame\n",
        "- Aplica un método de ordenamiento a esa columna\n",
        "- Para la columna ordenada, llama al método que devolverá todos los valores únicos de la columna"
      ]
    },
    {
      "cell_type": "code",
      "execution_count": null,
      "metadata": {
        "colab": {
          "base_uri": "https://localhost:8080/"
        },
        "id": "JIUcqzZN_Zct",
        "outputId": "a6c25e78-0d8b-468a-db4f-abec79d3fe66"
      },
      "outputs": [],
      "source": []
    },
    {
      "cell_type": "markdown",
      "metadata": {
        "id": "qej-Qmuo_Zct"
      },
      "source": [
        "Revisa la lista para encontrar duplicados implícitos del género `hiphop`. Estos podrían ser nombres escritos incorrectamente o nombres alternativos del mismo género.\n",
        "\n",
        "Verás los siguientes duplicados implícitos:\n",
        "* `hip`\n",
        "* `hop`\n",
        "* `hip-hop`\n",
        "\n",
        "Para deshacerte de ellos, declara la función `replace_wrong_genres()` con dos parámetros:\n",
        "* `wrong_genres=`: la lista de duplicados\n",
        "* `correct_genre=`: la cadena con el valor correcto\n",
        "\n",
        "La función debe corregir los nombres en la columna `'genre'` de la tabla `df`, es decir, reemplazar cada valor de la lista `wrong_genres` con el valor en `correct_genre`.\n"
      ]
    },
    {
      "cell_type": "code",
      "execution_count": null,
      "metadata": {
        "id": "ErNDkmns_Zct"
      },
      "outputs": [],
      "source": []
    },
    {
      "cell_type": "markdown",
      "metadata": {
        "id": "aDoBJxbA_Zct"
      },
      "source": [
        "Llama a `replace_wrong_genres()` y pásale argumentos para que elimine los duplicados implícitos (`hip`, `hop` y `hip-hop`) y los reemplace con `hiphop`:\n"
      ]
    },
    {
      "cell_type": "code",
      "execution_count": null,
      "metadata": {
        "id": "YN5i2hpmSo09"
      },
      "outputs": [],
      "source": []
    },
    {
      "cell_type": "markdown",
      "metadata": {
        "id": "zQKF16_RG15m"
      },
      "source": [
        "Asegúrate de que los nombres duplicados hayan sido eliminados. Imprime la lista de valores únicos de la columna `'genre'`:\n"
      ]
    },
    {
      "cell_type": "code",
      "execution_count": null,
      "metadata": {
        "colab": {
          "base_uri": "https://localhost:8080/"
        },
        "id": "wvixALnFG15m",
        "outputId": "4c203508-87ad-484b-ee88-be4811c6d86b"
      },
      "outputs": [],
      "source": []
    },
    {
      "cell_type": "markdown",
      "metadata": {
        "id": "ALgNbvF3VtPA"
      },
      "source": [
        "[Tabla de Contenido](#back)"
      ]
    },
    {
      "cell_type": "markdown",
      "metadata": {
        "id": "jz6a9-7HQUDd"
      },
      "source": [
        "### Conclusiones <a id='data_preprocessing_conclusions'></a>\n",
        "\n",
        "Hemos detectado tres problemas con los datos:\n",
        "\n",
        "- Estilo incorrecto de encabezados\n",
        "- Valores faltantes\n",
        "- Duplicados obvios e implícitos\n",
        "\n",
        "Los encabezados han sido corregidos para facilitar el procesamiento de la tabla.\n",
        "\n",
        "Todos los valores faltantes han sido reemplazados por `'unknown'`. Sin embargo, aún debemos ver si los valores faltantes en `'genre'` afectarán nuestros cálculos.\n",
        "\n",
        "La ausencia de duplicados hará que los resultados sean más precisos y más fáciles de entender.\n",
        "\n",
        "Ahora podemos pasar a probar las hipótesis.\n"
      ]
    },
    {
      "cell_type": "markdown",
      "metadata": {
        "id": "eK1es74rVujj"
      },
      "source": [
        "[Tabla de Contenidos](#back)"
      ]
    },
    {
      "cell_type": "markdown",
      "metadata": {},
      "source": [
        "### Pruebas de las hipótesis"
      ]
    },
    {
      "cell_type": "markdown",
      "metadata": {},
      "source": [
        "Escribe en esta sección que procedimiento seguirias para verificar estos supuestos. No es necesario usar código, sólo describir tu procedimiento."
      ]
    },
    {
      "cell_type": "markdown",
      "metadata": {},
      "source": []
    }
  ],
  "metadata": {
    "colab": {
      "collapsed_sections": [
        "E0vqbgi9ay0H",
        "VUC88oWjTJw2",
        "atZAxtq4_Zcu"
      ],
      "provenance": []
    },
    "kernelspec": {
      "display_name": "Python 3 (ipykernel)",
      "language": "python",
      "name": "python3"
    },
    "language_info": {
      "codemirror_mode": {
        "name": "ipython",
        "version": 3
      },
      "file_extension": ".py",
      "mimetype": "text/x-python",
      "name": "python",
      "nbconvert_exporter": "python",
      "pygments_lexer": "ipython3",
      "version": "3.10.9"
    },
    "toc": {
      "base_numbering": 1,
      "nav_menu": {},
      "number_sections": true,
      "sideBar": true,
      "skip_h1_title": true,
      "title_cell": "Table of Contents",
      "title_sidebar": "Contents",
      "toc_cell": false,
      "toc_position": {},
      "toc_section_display": true,
      "toc_window_display": false
    }
  },
  "nbformat": 4,
  "nbformat_minor": 0
}
