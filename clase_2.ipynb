{
 "cells": [
  {
   "attachments": {},
   "cell_type": "markdown",
   "metadata": {},
   "source": [
    "# Sesión 2\n",
    "\n",
    "En la programación, las estructuras de datos juegan un papel fundamental al permitirnos organizar y manipular información de manera eficiente. Son herramientas fundamentales para resolver problemas y optimizar el rendimiento de nuestros programas. Python, como un lenguaje de programación de alto nivel y muy popular, proporciona una amplia variedad de estructuras de datos integradas, así como la capacidad de crear nuestras propias estructuras personalizadas.\n",
    "\n",
    "Una estructura de datos en Python se refiere a una forma particular de organizar y almacenar datos en la memoria de una computadora. Cada estructura tiene sus propias características y se utiliza para resolver diferentes tipos de problemas."
   ]
  },
  {
   "attachments": {},
   "cell_type": "markdown",
   "metadata": {},
   "source": [
    "## Listas, Tuplas, y Diccionarios"
   ]
  },
  {
   "cell_type": "code",
   "execution_count": 1,
   "metadata": {},
   "outputs": [
    {
     "name": "stdout",
     "output_type": "stream",
     "text": [
      "['Jacob', 25, 'Ahmed', 80]\n",
      "['Jacob', 25, 'Ahmed', 80, 'Matt']\n",
      "4\n",
      "['Jacob', 25, 'Ahmed', 85, 'Matt']\n",
      "5\n",
      "['Jacob', 25, 'Ahmed', 85]\n",
      "['Ahmed', 85]\n",
      "('Python', 100, 'VBA', False)\n"
     ]
    }
   ],
   "source": [
    "# Crea una variable y asígnala como una lista\n",
    "mi_lista = [\"Jacob\", 25, \"Ahmed\", 80]\n",
    "print(mi_lista)\n",
    "\n",
    "# Agrega un elemento al final de una lista\n",
    "mi_lista.append(\"Matt\")\n",
    "print(mi_lista)\n",
    "\n",
    "# Devuelve el índice del primer objeto con un valor coincidente\n",
    "print(mi_lista.index(\"Matt\"))\n",
    "\n",
    "# Cambia un elemento especificado dentro de una lista en el índice dado\n",
    "mi_lista[3] = 85\n",
    "print(mi_lista)\n",
    "\n",
    "# Devuelve la longitud de la lista\n",
    "print(len(mi_lista))\n",
    "\n",
    "# Elimina un objeto especificado de una lista\n",
    "mi_lista.remove(\"Matt\")\n",
    "print(mi_lista)\n",
    "\n",
    "# Elimina el objeto en el índice especificado\n",
    "mi_lista.pop(0)\n",
    "mi_lista.pop(0)\n",
    "print(mi_lista)\n",
    "\n",
    "# Crea una tupla, una secuencia de objetos inmutables de Python que no se pueden cambiar\n",
    "mi_tupla = ('Python', 100, 'VBA', False)\n",
    "print(mi_tupla)"
   ]
  },
  {
   "attachments": {},
   "cell_type": "markdown",
   "metadata": {},
   "source": [
    "Las listas en Python tienen una gran cantidad de métodos integrados que se pueden utilizar para manipular y trabajar con los datos almacenados en ellas. Algunos de los métodos más comunes son:\n",
    "\n",
    "- append(): agrega un elemento al final de la lista\n",
    "- insert(): inserta un elemento en una posición específica de la lista \n",
    "- extend(): agrega múltiples elementos al final de la lista \n",
    "- remove(): elimina el primer elemento con el valor dado de la lista \n",
    "- pop(): elimina y devuelve el último elemento de la lista \n",
    "- index(): devuelve la posición del primer elemento con el valor dado en la lista \n",
    "- count(): cuenta el número de elementos con el valor dado en la lista \n",
    "- sort(): ordena la lista en orden ascendente \n",
    "- reverse(): invierte el orden de los elementos en la lista\n",
    "\n",
    "### Tuplas"
   ]
  },
  {
   "cell_type": "code",
   "execution_count": 1,
   "metadata": {},
   "outputs": [
    {
     "name": "stdout",
     "output_type": "stream",
     "text": [
      "La tupla contiene:\n",
      "('Juan', 25, 'México')\n",
      "El tipo de dato finalmente es...\n",
      "<class 'tuple'>\n"
     ]
    }
   ],
   "source": [
    "persona = (\"Juan\", 25, \"México\")\n",
    "\n",
    "# Mostramos la tupla en la consola\n",
    "print(\"La tupla contiene:\")\n",
    "print(persona)\n",
    "\n",
    "# Mostramos el tipo de dato de la variable\n",
    "print(\"El tipo de dato finalmente es...\")\n",
    "print(type(persona))"
   ]
  },
  {
   "cell_type": "code",
   "execution_count": 2,
   "metadata": {},
   "outputs": [
    {
     "name": "stdout",
     "output_type": "stream",
     "text": [
      "El número 2 aparece 2 veces en la tupla\n",
      "El número 3 está en la posición 2 de la tupla\n"
     ]
    }
   ],
   "source": [
    "# Creación de una tupla\n",
    "tupla = (1, 2, 3, 4, 2, 5)\n",
    "\n",
    "# Método count - Retorna el número de veces que un elemento aparece en la tupla\n",
    "count_2 = tupla.count(2)\n",
    "print(\"El número 2 aparece\", count_2, \"veces en la tupla\")\n",
    "\n",
    "# Método index - Retorna el índice de la primera ocurrencia de un elemento en la tupla\n",
    "index_3 = tupla.index(3)\n",
    "print(\"El número 3 está en la posición\", index_3, \"de la tupla\")\n",
    "\n"
   ]
  },
  {
   "cell_type": "code",
   "execution_count": 5,
   "metadata": {},
   "outputs": [],
   "source": [
    "# Crear una tupla y una lista con elementos repetidos\n",
    "mi_tupla = tuple(range(1000000))\n",
    "mi_lista = list(range(1000000))"
   ]
  },
  {
   "cell_type": "code",
   "execution_count": 27,
   "metadata": {},
   "outputs": [
    {
     "name": "stdout",
     "output_type": "stream",
     "text": [
      "CPU times: user 27.4 ms, sys: 8.01 ms, total: 35.4 ms\n",
      "Wall time: 37.2 ms\n"
     ]
    }
   ],
   "source": [
    "%%time\n",
    "# Acceder a un elemento en la tupla\n",
    "for elemento in mi_tupla:\n",
    "    pass\n"
   ]
  },
  {
   "cell_type": "code",
   "execution_count": 28,
   "metadata": {},
   "outputs": [
    {
     "name": "stdout",
     "output_type": "stream",
     "text": [
      "CPU times: user 30.8 ms, sys: 3.96 ms, total: 34.8 ms\n",
      "Wall time: 40 ms\n"
     ]
    }
   ],
   "source": [
    "%%time\n",
    "# Acceder a un elemento en la lista\n",
    "for elemento in mi_lista:\n",
    "    pass\n"
   ]
  },
  {
   "attachments": {},
   "cell_type": "markdown",
   "metadata": {},
   "source": [
    "### Piedra Papel o Tijeras"
   ]
  },
  {
   "cell_type": "code",
   "execution_count": 4,
   "metadata": {},
   "outputs": [
    {
     "name": "stdout",
     "output_type": "stream",
     "text": [
      "¡Vamos a jugar Piedra, Papel o Tijera!\n",
      "Elegiste tijera. La computadora eligió piedra.\n",
      "Lo siento. Has perdido.\n"
     ]
    }
   ],
   "source": [
    "import random\n",
    "\n",
    "opciones = [\"R\", \"S\", \"P\"]\n",
    "nombres_opciones = [\"piedra\", \"tijera\", \"papel\"]\n",
    "\n",
    "print(\"¡Vamos a jugar Piedra, Papel o Tijera!\")\n",
    "\n",
    "eleccion_computadora = random.choice(opciones)\n",
    "\n",
    "eleccion_usuario = input(\"Elige: (R) piedra, (S) tijera, (P) papel: \").upper()\n",
    "\n",
    "if eleccion_usuario in opciones:\n",
    "    print(f\"Elegiste {nombres_opciones[opciones.index(eleccion_usuario)]}. La computadora eligió {nombres_opciones[opciones.index(eleccion_computadora)]}.\")\n",
    "\n",
    "    if eleccion_usuario == eleccion_computadora:\n",
    "        print(\"¡Es un empate!\")\n",
    "    elif [eleccion_usuario, eleccion_computadora] in [[\"R\", \"S\"], [\"S\", \"P\"], [\"P\", \"R\"]]:\n",
    "        print(\"¡Hurra! Has ganado.\")\n",
    "    else:\n",
    "        print(\"Lo siento. Has perdido.\")\n",
    "else:\n",
    "    print(\"¡Opción inválida!\")\n"
   ]
  },
  {
   "attachments": {},
   "cell_type": "markdown",
   "metadata": {},
   "source": [
    "## Ciclos For y While\n",
    "\n",
    "Tanto for como while son estructuras de control de flujo de código utilizadas en ciencia de datos para procesar y analizar datos.\n",
    "\n",
    "for se utiliza comúnmente para iterar sobre colecciones de datos, como listas, tuplas y diccionarios. Esto es útil cuando se necesitan realizar operaciones repetitivas en cada elemento de una colección de datos. Por ejemplo, al procesar un conjunto de imágenes, se puede utilizar un bucle for para iterar sobre la lista de imágenes y aplicar una transformación a cada una.\n"
   ]
  },
  {
   "cell_type": "code",
   "execution_count": 37,
   "metadata": {},
   "outputs": [
    {
     "name": "stdout",
     "output_type": "stream",
     "text": [
      "1\n",
      "2\n",
      "3\n",
      "4\n",
      "5\n"
     ]
    }
   ],
   "source": [
    "# Imprimir los números del 1 al 5 utilizando for\n",
    "for i in range(1, 6):\n",
    "    print(i)"
   ]
  },
  {
   "cell_type": "code",
   "execution_count": 38,
   "metadata": {},
   "outputs": [
    {
     "name": "stdout",
     "output_type": "stream",
     "text": [
      "1\n",
      "2\n",
      "3\n",
      "4\n",
      "5\n"
     ]
    }
   ],
   "source": [
    "# Imprimir los números del 1 al 5 utilizando while\n",
    "i = 1\n",
    "while i <= 5:\n",
    "    print(i)\n",
    "    i += 1"
   ]
  },
  {
   "cell_type": "code",
   "execution_count": 42,
   "metadata": {},
   "outputs": [
    {
     "name": "stdout",
     "output_type": "stream",
     "text": [
      "0\n",
      "1\n",
      "2\n",
      "3\n",
      "4\n",
      "5\n",
      "6\n",
      "7\n",
      "8\n",
      "9\n",
      "20\n",
      "21\n",
      "22\n",
      "23\n",
      "24\n",
      "25\n",
      "26\n",
      "27\n",
      "28\n",
      "29\n",
      "Maní\n",
      "Mantequilla\n",
      "Mermelada\n",
      "Hora\n",
      "Es\n",
      "Ahora\n",
      "¡Whee! ¡Los carruseles son geniales!\n"
     ]
    }
   ],
   "source": [
    "# Un bucle For se mueve a través de un rango de números dado\n",
    "# Si se proporciona solo un número, recorrerá desde 0 hasta ese número\n",
    "for x in range(10):\n",
    "    print(x)\n",
    "\n",
    "# Si se proporcionan dos números, el bucle For recorrerá desde el primer número hasta que alcance el segundo número\n",
    "for x in range(20, 30):\n",
    "    print(x)\n",
    "\n",
    "# Si se proporciona una lista, el bucle For recorrerá cada elemento dentro de la lista\n",
    "palabras = [\"Maní\", \"Mantequilla\", \"Mermelada\", \"Hora\", \"Es\", \"Ahora\"]\n",
    "for palabra in palabras:\n",
    "    print(palabra)\n",
    "\n",
    "# Un bucle While continuará recorriendo el código contenido en él hasta que se cumpla alguna condición\n",
    "x = \"Sí\"\n",
    "while x == \"Sí\":\n",
    "    print(\"¡Whee! ¡Los carruseles son geniales!\")\n",
    "    x = input(\"¿Te gustaría subir de nuevo al carrusel? \")\n"
   ]
  },
  {
   "cell_type": "code",
   "execution_count": 43,
   "metadata": {},
   "outputs": [
    {
     "name": "stdout",
     "output_type": "stream",
     "text": [
      "[0] Snickers\n",
      "[1] Kit Kat\n",
      "[2] Sour Patch Kids\n",
      "[3] Juicy Fruit\n",
      "[4] Swedish Fish\n",
      "[5] Skittles\n",
      "[6] Hershey Bar\n",
      "[7] Starbursts\n",
      "[8] M&Ms\n",
      "¿Qué dulce te gustaría llevar a casa?\n",
      "Me llevé a casa...\n",
      "Juicy Fruit\n",
      "Kit Kat\n",
      "Sour Patch Kids\n",
      "Skittles\n",
      "Hershey Bar\n"
     ]
    }
   ],
   "source": [
    "# Ejemplo Tienda de Dulces\n",
    "\n",
    "# La cantidad de dulces que se permitirá elegir al usuario\n",
    "asignacion = 3\n",
    "\n",
    "# La lista de dulces para mostrar en pantalla\n",
    "lista_dulces = [\n",
    "    \"Snickers\",\n",
    "    \"Kit Kat\",\n",
    "    \"Sour Patch Kids\",\n",
    "    \"Juicy Fruit\",\n",
    "    \"Swedish Fish\",\n",
    "    \"Skittles\",\n",
    "    \"Hershey Bar\",\n",
    "    \"Starbursts\",\n",
    "    \"M&Ms\"\n",
    "]\n",
    "\n",
    "\n",
    "# La lista utilizada para almacenar todos los dulces seleccionados\n",
    "carrito_dulces = []\n",
    "\n",
    "# Imprimir todos los dulces en pantalla y su índice entre corchetes\n",
    "for dulce in lista_dulces:\n",
    "    print(f'[{str(lista_dulces.index(dulce))}] {dulce}')\n",
    "\n",
    "# Otra opción para ejecutar el bucle for es utilizando el método enumerate de Python\n",
    "# Este método obtiene tanto el índice como el valor de un elemento durante el bucle for\n",
    "# for indice, dulce in enumerate(lista_dulces):\n",
    "#     print(indice, dulce)\n",
    "\n",
    "\n",
    "\n",
    "\n",
    "# Ejecutar un bucle que permite al usuario elegir qué dulces llevar a casa\n",
    "print(\"¿Qué dulce te gustaría llevar a casa?\")\n",
    "for x in range(asignacion):\n",
    "    seleccionado = input(\"Ingresa el número del dulce que deseas: \")\n",
    "\n",
    "    # Agregar el dulce en el índice seleccionado a la lista carrito_dulces\n",
    "    carrito_dulces.append(lista_dulces[int(seleccionado)])\n",
    "\n",
    "# Recorrer carrito_dulces para mostrar qué dulces se llevaron a casa\n",
    "print(\"Me llevé a casa...\")\n",
    "for dulce in carrito_dulces:\n",
    "    print(dulce)\n"
   ]
  },
  {
   "attachments": {},
   "cell_type": "markdown",
   "metadata": {},
   "source": [
    "### Reto Ciclos\n",
    "Utilizando un bucle while, pregunta al usuario \"¿Cuántos números?\" y luego imprime una cadena de números en orden creciente, desde 0 hasta el número ingresado por el usuario.\n",
    "\n",
    "Después de imprimir los resultados, pregunta al usuario si desea continuar.\n",
    "\n",
    "- Si se ingresa \"y\", mantén la cadena en funcionamiento al ingresar un nuevo número y comenzar un nuevo conteo desde 0 hasta el nuevo número ingresado por el usuario.\n",
    "\n",
    "- Si se ingresa \"n\", sal del programa."
   ]
  },
  {
   "cell_type": "code",
   "execution_count": 47,
   "metadata": {},
   "outputs": [
    {
     "name": "stdout",
     "output_type": "stream",
     "text": [
      "0\n",
      "1\n",
      "2\n",
      "3\n",
      "4\n",
      "5\n",
      "6\n",
      "7\n",
      "8\n",
      "9\n"
     ]
    }
   ],
   "source": [
    "# Variable inicial para controlar el juego\n",
    "user_play = \"y\"\n",
    "\n",
    "# Mientras todavía estamos jugando...\n",
    "while user_play == \"y\" :\n",
    "\n",
    "    # Preguntar al usuario cuántos números desea recorrer\n",
    "    user_number = int(input(\"¿Cuántos números? \"))\n",
    "\n",
    "    # Recorrer los números. (Asegúrate de convertir la cadena en un número entero.)\n",
    "    for x in range(user_number):\n",
    "        print(x)\n",
    "\n",
    "    # Una vez completado...\n",
    "    user_play = input(\"Continuar? y o n \")\n"
   ]
  },
  {
   "cell_type": "code",
   "execution_count": 29,
   "metadata": {},
   "outputs": [
    {
     "name": "stdout",
     "output_type": "stream",
     "text": [
      "['p', 'e', 'j', 'e', 'l', 'a', 'g', 'a', 'r', 't', 'o']\n",
      "['p', 'e', 'j', 'e', 'l', 'a', 'g', 'a', 'r', 't', 'o']\n",
      "['P', 'E', 'J', 'E', 'L', 'A', 'G', 'A', 'R', 'T', 'O']\n",
      "['P', 'E', 'J', 'E', 'L', 'A', 'G', 'A', 'R', 'T', 'O']\n",
      "[92, 106]\n",
      "[92, 106]\n"
     ]
    }
   ],
   "source": [
    "fish = \"pejelagarto\"\n",
    "\n",
    "# Recorrer cada letra en la cadena de texto\n",
    "# y agregarla a una lista\n",
    "letras = []\n",
    "for letra in fish:\n",
    "    letras.append(letra)\n",
    "\n",
    "print(letras)\n",
    "\n",
    "# Las comprensiones de lista proporcionan una sintaxis concisa para crear listas\n",
    "letras = [letra for letra in fish]\n",
    "\n",
    "print(letras)\n",
    "\n",
    "# Podemos manipular cada elemento a medida que avanzamos\n",
    "letras_mayusculas = []\n",
    "for letra in fish:\n",
    "    letras_mayusculas.append(letra.upper())\n",
    "\n",
    "print(letras_mayusculas)\n",
    "\n",
    "# Comprensión de lista para lo anterior\n",
    "letras_mayusculas = [letra.upper() for letra in fish]\n",
    "\n",
    "print(letras_mayusculas)\n",
    "\n",
    "# También podemos agregar lógica condicional (declaraciones if) a una comprensión de lista\n",
    "temperaturas_julio = [87, 85, 92, 79, 106]\n",
    "dias_calurosos = []\n",
    "for temperatura in temperaturas_julio:\n",
    "    if temperatura > 90:\n",
    "        dias_calurosos.append(temperatura)\n",
    "print(dias_calurosos)\n",
    "\n",
    "# Comprensión de lista con condicional\n",
    "dias_calurosos = [temperatura for temperatura in temperaturas_julio if temperatura > 90]\n",
    "\n",
    "print(dias_calurosos)\n"
   ]
  },
  {
   "attachments": {},
   "cell_type": "markdown",
   "metadata": {},
   "source": [
    "### Reto Invitaciones\n",
    "Utiliza comprensión de listas para copletar el siguiente código:"
   ]
  },
  {
   "cell_type": "code",
   "execution_count": 36,
   "metadata": {},
   "outputs": [
    {
     "name": "stdout",
     "output_type": "stream",
     "text": [
      "Estimado(a) Cipriano Picapiedra, ¡por favor ven a la boda este sábado!\n",
      "Estimado(a) Pancracio Patachueca, ¡por favor ven a la boda este sábado!\n",
      "Estimado(a) Chabelo Chambelán, ¡por favor ven a la boda este sábado!\n",
      "Estimado(a) Juan Pérez, ¡por favor ven a la boda este sábado!\n",
      "Estimado(a) Fulanito Pérez Pérez, ¡por favor ven a la boda este sábado!\n"
     ]
    }
   ],
   "source": [
    "# inicializar una lista con al menos 5 nombres\n",
    "nombres =[\"Cipriano PicaPiedra\", \"Pancracio PataChueca\", \"Chabelo Chambelán\", \"Juan Pérez\", \"Fulanito Pérez Pérez\"]\n",
    "\n",
    "\n",
    "\n",
    "# Utilizar una comprensión de lista para crear una lista de nombres en minúsculas\n",
    "en_minúsculas = [nombre.lower() for nombre in nombres]\n",
    "\n",
    "# Utilizar una comprensión de lista para crear una lista de nombres en mayuscula inicial .title() a partir de los nombres en minúsculas.\n",
    "# Referencia: https://www.tutorialspoint.com/python/string_title.htm\n",
    "en_mayúscula_inicial = [nombre.title() for nombre in en_minúsculas]\n",
    "\n",
    "# Imprimir las invitaciones\n",
    "invitaciones = [f\"Estimado(a) {nombre}, ¡por favor ven a la boda este sábado!\" for nombre in en_mayúscula_inicial]\n",
    "for invitacion in invitaciones:\n",
    "    print(invitacion)"
   ]
  },
  {
   "cell_type": "code",
   "execution_count": 34,
   "metadata": {},
   "outputs": [
    {
     "name": "stdout",
     "output_type": "stream",
     "text": [
      "['cipriano picapiedra', 'pancracio patachueca', 'chabelo chambelán', 'juan pérez', 'fulanito pérez pérez']\n",
      "['Cipriano Picapiedra', 'Pancracio Patachueca', 'Chabelo Chambelán', 'Juan Pérez', 'Fulanito Pérez Pérez']\n"
     ]
    }
   ],
   "source": [
    "print(en_minúsculas)\n",
    "print(en_mayúscula_inicial)"
   ]
  },
  {
   "attachments": {},
   "cell_type": "markdown",
   "metadata": {},
   "source": [
    "## Introducción a los Módulos y Paquetes\n",
    "* ver slides"
   ]
  },
  {
   "cell_type": "code",
   "execution_count": 41,
   "metadata": {},
   "outputs": [
    {
     "data": {
      "image/png": "[encoded data removed]",
      "text/plain": [
       "<Figure size 640x480 with 1 Axes>"
      ]
     },
     "metadata": {},
     "output_type": "display_data"
    }
   ],
   "source": [
    "## Ejemplo real de uso de tuplas. \n",
    "data = [(1, 2), (3, 4), (5, 6), (7, 8), (9, 10)]\n",
    "import matplotlib.pyplot as plt\n",
    "\n",
    "#compresión de listas. \n",
    "x = [d[0] for d in data]\n",
    "y = [d[1] for d in data]\n",
    "\n",
    "plt.plot(x, y, 'ro')\n",
    "plt.show()"
   ]
  }
 ],
 "metadata": {
  "kernelspec": {
   "display_name": "venv",
   "language": "python",
   "name": "python3"
  },
  "language_info": {
   "codemirror_mode": {
    "name": "ipython",
    "version": 3
   },
   "file_extension": ".py",
   "mimetype": "text/x-python",
   "name": "python",
   "nbconvert_exporter": "python",
   "pygments_lexer": "ipython3",
   "version": "3.10.9"
  },
  "orig_nbformat": 4
 },
 "nbformat": 4,
 "nbformat_minor": 2
}
